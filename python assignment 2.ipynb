{
 "cells": [
  {
   "cell_type": "markdown",
   "metadata": {},
   "source": [
    "1)Write a Python Program to implement your own myreduce() function which works exactly likePython's built-in function reduce()"
   ]
  },
  {
   "cell_type": "markdown",
   "metadata": {},
   "source": [
    "Using INBUILT FUNCTION"
   ]
  },
  {
   "cell_type": "code",
   "execution_count": 7,
   "metadata": {},
   "outputs": [
    {
     "data": {
      "text/plain": [
       "120"
      ]
     },
     "execution_count": 7,
     "metadata": {},
     "output_type": "execute_result"
    }
   ],
   "source": [
    ".from functools import reduce\n",
    "l=[1,2,3,4,5]\n",
    "def prod(a,b):\n",
    "    return a*b\n",
    "s=reduce(prod,l)\n",
    "s"
   ]
  },
  {
   "cell_type": "markdown",
   "metadata": {},
   "source": [
    "using myown function"
   ]
  },
  {
   "cell_type": "code",
   "execution_count": 142,
   "metadata": {},
   "outputs": [
    {
     "data": {
      "text/plain": [
       "120"
      ]
     },
     "execution_count": 142,
     "metadata": {},
     "output_type": "execute_result"
    }
   ],
   "source": [
    "l=[1,2,3,4,5]\n",
    "def prod(a,b):\n",
    "    return a*b\n",
    "def myreduce(fn,m):\n",
    "    a=m[0]\n",
    "    b=m[1]\n",
    "    for i in range(2,len(m)+1):\n",
    "        c=fn(a,b)\n",
    "        a=c\n",
    "        if int(i)<=(len(m)-1):\n",
    "            b=m[i]\n",
    "        else:\n",
    "            break\n",
    "    \n",
    "    return c\n",
    "a=myreduce(prod,l)\n",
    "a"
   ]
  },
  {
   "cell_type": "markdown",
   "metadata": {},
   "source": [
    "1.2Write a Python program to implement your own myfilter() function which works exactly likePython's built-in function filter()"
   ]
  },
  {
   "cell_type": "markdown",
   "metadata": {},
   "source": [
    "Using Inbuilt Function"
   ]
  },
  {
   "cell_type": "code",
   "execution_count": 153,
   "metadata": {},
   "outputs": [
    {
     "data": {
      "text/plain": [
       "[2, 4, 6, 8, 10]"
      ]
     },
     "execution_count": 153,
     "metadata": {},
     "output_type": "execute_result"
    }
   ],
   "source": [
    "l=[1,2,3,4,5,6,7,8,9,10]\n",
    "def even(n):\n",
    "    if n%2==0:\n",
    "        return n\n",
    "m=list(filter(even,l))\n",
    "m"
   ]
  },
  {
   "cell_type": "markdown",
   "metadata": {},
   "source": [
    "Using myown function"
   ]
  },
  {
   "cell_type": "code",
   "execution_count": 173,
   "metadata": {},
   "outputs": [
    {
     "data": {
      "text/plain": [
       "[2, 4, 6, 8, 10]"
      ]
     },
     "execution_count": 173,
     "metadata": {},
     "output_type": "execute_result"
    }
   ],
   "source": [
    "l=[1,2,3,4,5,6,7,8,9,10]\n",
    "def even(n):\n",
    "    if n%2==0:\n",
    "        return n\n",
    "def myfilter(fn,k):\n",
    "    o=[]\n",
    "    for i in k:\n",
    "        a=fn(i)\n",
    "        \n",
    "        \n",
    "        if a==None:\n",
    "            continue\n",
    "        else:\n",
    "             o.append(a)\n",
    "    return o  \n",
    "s=list(myfilter(even,l))  \n",
    "s\n"
   ]
  },
  {
   "cell_type": "markdown",
   "metadata": {},
   "source": [
    "Second Answer"
   ]
  },
  {
   "cell_type": "code",
   "execution_count": 9,
   "metadata": {},
   "outputs": [
    {
     "data": {
      "text/plain": [
       "['A', 'C', 'A', 'D', 'G', 'I', 'L', 'D']"
      ]
     },
     "execution_count": 9,
     "metadata": {},
     "output_type": "execute_result"
    }
   ],
   "source": [
    "l=[i for i in \"ACADGILD\"]\n",
    "l"
   ]
  },
  {
   "cell_type": "code",
   "execution_count": 52,
   "metadata": {},
   "outputs": [
    {
     "data": {
      "text/plain": [
       "['x', 'xx', 'xxx', 'xxxx', 'y', 'yy', 'yyy', 'yyyy', 'z', 'zz', 'zzz', 'zzzz']"
      ]
     },
     "execution_count": 52,
     "metadata": {},
     "output_type": "execute_result"
    }
   ],
   "source": [
    "l=[j*i for i in \"xyz\" for j in range(1,5) ]\n",
    "l\n",
    "    "
   ]
  },
  {
   "cell_type": "code",
   "execution_count": 64,
   "metadata": {},
   "outputs": [
    {
     "data": {
      "text/plain": [
       "['x', 'y', 'z', 'xx', 'yy', 'zz', 'xxx', 'yyy', 'zzz', 'xxxx', 'yyyy', 'zzzz']"
      ]
     },
     "execution_count": 64,
     "metadata": {},
     "output_type": "execute_result"
    }
   ],
   "source": [
    "m=[i*j  for j in range(1,5) for i in \"xyz\"]\n",
    "m"
   ]
  },
  {
   "cell_type": "code",
   "execution_count": 31,
   "metadata": {},
   "outputs": [
    {
     "data": {
      "text/plain": [
       "[[2], [3], [4], [3], [4], [5], [4], [5], [6]]"
      ]
     },
     "execution_count": 31,
     "metadata": {},
     "output_type": "execute_result"
    }
   ],
   "source": [
    "l=[[j] for i in range(2,5) for j in range(i,i+3)]\n",
    "l"
   ]
  },
  {
   "cell_type": "code",
   "execution_count": 32,
   "metadata": {},
   "outputs": [
    {
     "data": {
      "text/plain": [
       "[[2, 3, 4, 5], [3, 4, 5, 6], [4, 5, 6, 7], [5, 6, 7, 8]]"
      ]
     },
     "execution_count": 32,
     "metadata": {},
     "output_type": "execute_result"
    }
   ],
   "source": [
    "l=[[i,i+1,i+2,i+3] for i in range(2,6)]\n",
    "l"
   ]
  },
  {
   "cell_type": "code",
   "execution_count": 35,
   "metadata": {},
   "outputs": [
    {
     "data": {
      "text/plain": [
       "[(1, 1), (2, 1), (3, 1), (1, 2), (2, 2), (3, 2), (1, 3), (2, 3), (3, 3)]"
      ]
     },
     "execution_count": 35,
     "metadata": {},
     "output_type": "execute_result"
    }
   ],
   "source": [
    "l=[(j,i) for i in range(1,4) for j in range(1,4)]\n",
    "l"
   ]
  },
  {
   "cell_type": "markdown",
   "metadata": {},
   "source": [
    "Third Answer"
   ]
  },
  {
   "cell_type": "code",
   "execution_count": 67,
   "metadata": {},
   "outputs": [
    {
     "data": {
      "text/plain": [
       "'sabarees'"
      ]
     },
     "execution_count": 67,
     "metadata": {},
     "output_type": "execute_result"
    }
   ],
   "source": [
    "def longest(a):\n",
    "    s={}\n",
    "    l=[]\n",
    "    for i in a:\n",
    "        s[len(i)]=i\n",
    "        l.append(len(i))\n",
    "    l.sort(reverse=True)\n",
    "    return s[l[0]]\n",
    "    \n",
    "h=[\"sabarees\",\"nihal\",\"sriram\"]\n",
    "longest(h)"
   ]
  },
  {
   "cell_type": "markdown",
   "metadata": {},
   "source": [
    "Task 2\n",
    " 1.1\n"
   ]
  },
  {
   "cell_type": "code",
   "execution_count": 103,
   "metadata": {},
   "outputs": [
    {
     "data": {
      "text/plain": [
       "14.696938456699069"
      ]
     },
     "execution_count": 103,
     "metadata": {},
     "output_type": "execute_result"
    }
   ],
   "source": [
    "class side():\n",
    "    \n",
    "    def __init__(self,a,b,c):\n",
    "        self.a=a\n",
    "        self.b=b\n",
    "        self.c=c\n",
    "    \n",
    "class AOT(side):\n",
    "    \n",
    "    def __init__(self,*args):\n",
    "        super(AOT,self).__init__(*args)\n",
    "    def areaoftriangle(self):\n",
    "        s=(self.a+self.b+self.c)/2\n",
    "        area=(s*(s-self.a)*(s-self.b)*(s-self.c)) ** 0.5\n",
    "        return area\n",
    "  \n",
    "\n",
    "x=AOT(5,6,7)\n",
    "x.areaoftriangle()\n",
    "    \n",
    "    \n",
    "        \n"
   ]
  },
  {
   "cell_type": "markdown",
   "metadata": {},
   "source": [
    "1.2"
   ]
  },
  {
   "cell_type": "code",
   "execution_count": 109,
   "metadata": {},
   "outputs": [
    {
     "name": "stdout",
     "output_type": "stream",
     "text": [
      "enter the integer n value3\n"
     ]
    },
    {
     "data": {
      "text/plain": [
       "['sabareesh', 'niha', 'srinu', 'srichakra']"
      ]
     },
     "execution_count": 109,
     "metadata": {},
     "output_type": "execute_result"
    }
   ],
   "source": [
    "def filter_long_words(s,n):\n",
    "    l=[]\n",
    "    for i in s:\n",
    "        if len(i)>n:\n",
    "            l.append(i)\n",
    "            \n",
    "    return l   \n",
    "n=int(input(\"enter the integer n value\"))   \n",
    "s=[\"sabareesh\",\"niha\",\"srinu\",\"srichakra\"]\n",
    "\n",
    "filter_long_words(s,n)"
   ]
  },
  {
   "cell_type": "markdown",
   "metadata": {},
   "source": [
    "2.1"
   ]
  },
  {
   "cell_type": "code",
   "execution_count": 110,
   "metadata": {},
   "outputs": [
    {
     "data": {
      "text/plain": [
       "[1, 4, 9, 3, 6, 6, 10]"
      ]
     },
     "execution_count": 110,
     "metadata": {},
     "output_type": "execute_result"
    }
   ],
   "source": [
    "def mapwords_to_integers(l):\n",
    "    m=[]\n",
    "    for i in l:\n",
    "        m.append(len(i))\n",
    "    return m\n",
    "a=[\"I\",\"have\",\"completed\",\"the\",\"second\",\"python\", \"assignment\"]\n",
    "\n",
    "mapwords_to_integers(a)\n",
    "        "
   ]
  },
  {
   "cell_type": "markdown",
   "metadata": {},
   "source": [
    "2.2"
   ]
  },
  {
   "cell_type": "code",
   "execution_count": 116,
   "metadata": {},
   "outputs": [
    {
     "name": "stdout",
     "output_type": "stream",
     "text": [
      "enter character=A\n"
     ]
    },
    {
     "data": {
      "text/plain": [
       "True"
      ]
     },
     "execution_count": 116,
     "metadata": {},
     "output_type": "execute_result"
    }
   ],
   "source": [
    "n=input(\"enter character=\")\n",
    "def vowelchecker(n):\n",
    "    l=\"aeiouAEIOU\"\n",
    "    for i in l:\n",
    "        if i==n:\n",
    "            return True\n",
    "    else:\n",
    "        return False\n",
    "            \n",
    "vowelchecker(n)\n",
    "            "
   ]
  },
  {
   "cell_type": "code",
   "execution_count": null,
   "metadata": {},
   "outputs": [],
   "source": []
  },
  {
   "cell_type": "code",
   "execution_count": null,
   "metadata": {},
   "outputs": [],
   "source": []
  }
 ],
 "metadata": {
  "kernelspec": {
   "display_name": "Python 3",
   "language": "python",
   "name": "python3"
  },
  "language_info": {
   "codemirror_mode": {
    "name": "ipython",
    "version": 3
   },
   "file_extension": ".py",
   "mimetype": "text/x-python",
   "name": "python",
   "nbconvert_exporter": "python",
   "pygments_lexer": "ipython3",
   "version": "3.7.4"
  }
 },
 "nbformat": 4,
 "nbformat_minor": 2
}
